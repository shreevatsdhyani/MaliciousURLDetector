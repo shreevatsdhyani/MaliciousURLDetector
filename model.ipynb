{
 "cells": [
  {
   "cell_type": "code",
   "execution_count": 49,
   "metadata": {},
   "outputs": [
    {
     "name": "stdout",
     "output_type": "stream",
     "text": [
      "Model Performance:\n",
      "               precision    recall  f1-score   support\n",
      "\n",
      "      benign       0.95      0.99      0.97     85778\n",
      "  defacement       0.98      0.99      0.98     19104\n",
      "     malware       0.99      0.94      0.97      6521\n",
      "    phishing       0.91      0.78      0.84     18836\n",
      "\n",
      "    accuracy                           0.95    130239\n",
      "   macro avg       0.96      0.92      0.94    130239\n",
      "weighted avg       0.95      0.95      0.95    130239\n",
      "\n",
      "Model saved as 'model.pkl'\n"
     ]
    }
   ],
   "source": [
    "from sklearn.feature_extraction.text import TfidfVectorizer\n",
    "from sklearn.model_selection import train_test_split\n",
    "from sklearn.ensemble import RandomForestClassifier\n",
    "from sklearn.pipeline import make_pipeline\n",
    "import joblib\n",
    "from sklearn.metrics import classification_report\n",
    "\n",
    "X = data['url']\n",
    "y = data['type']\n",
    "\n",
    "X_train, X_test, y_train, y_test = train_test_split(X, y, test_size=0.2, random_state=42)\n",
    "\n",
    "model = make_pipeline(\n",
    "    TfidfVectorizer(max_features=5000),\n",
    "    RandomForestClassifier(n_estimators=100, n_jobs=-1, random_state=42)\n",
    ")\n",
    "\n",
    "model.fit(X_train, y_train)\n",
    "\n",
    "y_pred = model.predict(X_test)\n",
    "print(\"Model Performance:\\n\", classification_report(y_test, y_pred))\n",
    "\n",
    "joblib.dump(model, 'model.pkl')\n",
    "print(\"Model saved as 'model.pkl'\")\n"
   ]
  }
 ],
 "metadata": {
  "kernelspec": {
   "display_name": "tfod",
   "language": "python",
   "name": "tfod"
  },
  "language_info": {
   "codemirror_mode": {
    "name": "ipython",
    "version": 3
   },
   "file_extension": ".py",
   "mimetype": "text/x-python",
   "name": "python",
   "nbconvert_exporter": "python",
   "pygments_lexer": "ipython3",
   "version": "3.10.11"
  }
 },
 "nbformat": 4,
 "nbformat_minor": 2
}
